{
 "cells": [
  {
   "cell_type": "markdown",
   "id": "32feab68-849f-4e43-8a29-bf78a9bb3404",
   "metadata": {},
   "source": [
    "# Programming for Data Analysis Project\n",
    "\n",
    "This notebook demostrates the process of synthesizing a data set using numpy.random packgage based on a real world phenomenon. \n",
    "***\n",
    "- simulating a real-world phenomenon\n",
    "- create a synthesize data set using numpy.random (at least 100 data points & 4+ variables)\n",
    "- consider distribution and relationship of data and variables\n",
    "\n",
    "- ipynb to display research of real world phenonmenon in regards to the simulated data set, dont need csv file\n",
    "- devise an algorithm (or method) to generate such a data set"
   ]
  },
  {
   "cell_type": "markdown",
   "id": "c1a0d30a-4ac5-45b3-9608-600e3bf8dc1b",
   "metadata": {},
   "source": [
    "## Steps to synthesize a dataset"
   ]
  },
  {
   "cell_type": "markdown",
   "id": "5c270c2c-4d2c-4f03-8628-dfa6e021d689",
   "metadata": {},
   "source": [
    "1. define the variables\n",
    "2. properties: \n",
    "  - center statistic: mean, median, mode\n",
    "  - spread: standard deviation, range\n",
    "  - dependence: how related are two factors: coorelation \n",
    "  - shape: skewness and kurtosis\n",
    "\n",
    "3. generate random number for each variable by its distribution, (with no effect first then add in effect size)\n",
    "\n",
    "4. translate to code/ algorithm\n",
    "  - a loop from 1-200 data point (participants/samply size)\n",
    "  - a loop that loop through 4 or 5 variables to be set\n",
    "    - need to set subject id? * optional?*\n",
    "    - set participant 1-100 as group 1, 101-200 as group 2? *optional?* not necessary, it could be 1 of the variables, like income and edu level\n",
    "    - specify distribution of variables (supply necessary parameter like mean, sd, min and max point, and data type: int vs float)\n",
    "  \n",
    "  - add effect on dv based on coorelation from literature\n",
    "    - change mean or standard deviation to create effect\n",
    "    - to rescale new = old*sd+meanshift"
   ]
  },
  {
   "cell_type": "markdown",
   "id": "ebd6ddf6",
   "metadata": {},
   "source": [
    "# The topic: Children obesity"
   ]
  },
  {
   "cell_type": "markdown",
   "id": "5013792a",
   "metadata": {},
   "source": [
    "## Severity of children obesity and its implication\n",
    "\n",
    "According to [WHO](https://www.who.int/news-room/fact-sheets/detail/obesity-and-overweight), there is a worldwide rising trend of obesity. In a study done in 2016, there are over 340 million children and adolescents aged 5-19 were overweight or obese. Overweight and obesity is a major risk factor of cardiovascular diseases and some cancers including endometrial, breast, ovarian, prostate, liver, gallbladder, kidney, and colon. \n",
    "With the rising trend of obesity worldwide which would in turn strain the healthcare system. It is benificial to closely monitor and predict the trend, and plan as well as allocate resourse to tackle the problem accordingly. \n",
    "\n",
    "Research also showed that **childhood obesity is a strong predictor of adult obesity**. Some 55% of young children with obesity will remain obese into adolescence and for 80% of adolescents with obesity, the obesity will persist into adulthood[[1]](https://www.hse.ie/eng/about/who/healthwellbeing/our-priority-programmes/child-health-and-wellbeing/hwfc.pdf).\n",
    "\n",
    "Childhood obesity is a multi-factorial condition influenced by family lifestyle, genetic predisposition and the socio-economic- and cultural status. Children's lifestyle are  directly or indirectly affected by family environments, parents’ role and behavioral modeling. A synthesiezed dataset will take into account of those factors [[2]](https://pubmed.ncbi.nlm.nih.gov/20015353/)[[3]](https://www.nature.com/articles/s41598-019-45543-y).\n"
   ]
  },
  {
   "cell_type": "markdown",
   "id": "8b96839c",
   "metadata": {},
   "source": [
    "## The variables\n",
    "***\n",
    "\n",
    "As research suggested children's weight at age 5 is a result of several aspects of factors, including genetic, family environment and socio-economical. The dataset consists of the following variables reflecting the real world scenario.\n",
    "\n",
    "**List of variables:**\n",
    "1. Weight at age 5 (kg)\n",
    "2. Height at age 5 (cm)\n",
    "3. Birth weight (kg)\n",
    "4. Sedentary lifestyle\n",
    "5. Family income\n",
    "6. Primary carer education level\n"
   ]
  },
  {
   "cell_type": "markdown",
   "id": "3442b421-a907-4ceb-95a4-b8f427709ca8",
   "metadata": {},
   "source": [
    "\n",
    "\n"
   ]
  },
  {
   "cell_type": "markdown",
   "id": "560c7a35-5419-4948-aaf2-8b612d819a4b",
   "metadata": {},
   "source": [
    "### Properties of variables\n",
    "***\n",
    "\n",
    "#### 1. Weight at age 5\n",
    "Weight is generally normally distributed and is measure in kg. Based on data from [WHO](https://cdn.who.int/media/docs/default-source/child-growth/child-growth-standards/indicators/weight-for-age/wfa-boys-0-5-percentiles.pdf?sfvrsn=488e74e6_11), children's weight at age 5 is in range of 13.5 -25.3kg, with mean and median at 18.3kg.\n"
   ]
  },
  {
   "cell_type": "code",
   "execution_count": 1,
   "id": "498d6321-7db9-4b27-a4cb-58570408a67b",
   "metadata": {},
   "outputs": [],
   "source": [
    "# import packages\n",
    "import numpy as np\n",
    "import matplotlib.pyplot as plt\n",
    "import seaborn as sns"
   ]
  },
  {
   "cell_type": "code",
   "execution_count": 2,
   "id": "e783a6fd-72e8-461b-927a-750349ab4350",
   "metadata": {},
   "outputs": [],
   "source": [
    "# initialize random number generater and set seed\n",
    "rng = np.random.default_rng(112233)"
   ]
  },
  {
   "cell_type": "code",
   "execution_count": 14,
   "id": "3f39bd83-53ca-494b-9bac-c15a9cf87029",
   "metadata": {
    "scrolled": true,
    "tags": []
   },
   "outputs": [
    {
     "data": {
      "text/plain": [
       "array([18.35, 18.39, 18.24, 18.18, 18.58, 18.22, 18.17, 18.21, 18.45,\n",
       "       18.5 , 18.2 , 18.41, 18.3 , 18.26, 18.19, 18.4 , 18.5 , 18.41,\n",
       "       18.24, 18.35, 18.07, 18.32, 18.18, 18.18, 18.34, 18.37, 18.43,\n",
       "       18.48, 17.95, 18.27, 18.31, 18.33, 18.47, 18.28, 18.12, 18.16,\n",
       "       18.17, 18.43, 18.31, 18.36, 18.19, 17.96, 18.26, 18.08, 18.39,\n",
       "       18.22, 18.5 , 18.32, 18.17, 18.39, 18.06, 18.22, 18.21, 18.28,\n",
       "       18.39, 18.18, 18.25, 18.39, 18.13, 18.32, 18.11, 18.39, 18.35,\n",
       "       18.35, 18.35, 18.57, 18.1 , 18.32, 18.23, 18.18, 18.02, 18.54,\n",
       "       18.16, 18.46, 18.31, 18.07, 18.42, 18.26, 18.26, 18.22, 18.24,\n",
       "       18.21, 18.21, 18.59, 18.34, 18.1 , 18.26, 18.05, 18.28, 18.36,\n",
       "       18.41, 18.31, 18.6 , 18.29, 18.26, 18.23, 18.23, 18.37, 18.36,\n",
       "       18.33, 18.27, 18.23, 18.2 , 18.35, 18.6 , 18.41, 18.24, 18.22,\n",
       "       18.17, 18.03, 18.36, 18.47, 18.14, 18.5 , 18.33, 18.23, 18.09,\n",
       "       18.55, 18.3 , 18.34, 18.16, 18.24, 18.06, 18.49, 18.42, 18.2 ,\n",
       "       18.  , 18.29, 18.32, 18.58, 18.33, 18.48, 18.09, 18.32, 18.13,\n",
       "       18.36, 18.18, 18.27, 18.28, 18.07, 18.38, 18.1 , 18.67, 18.37,\n",
       "       18.32, 18.36, 18.29, 18.66, 18.22, 18.11, 18.31, 18.15, 18.37,\n",
       "       18.2 , 18.44, 18.22, 18.39, 18.61, 17.94, 18.23, 18.38, 18.29,\n",
       "       18.32, 18.48, 18.18, 18.39, 18.17, 18.15, 18.43, 18.38, 18.09,\n",
       "       18.21, 18.19, 18.16, 18.  , 18.46, 18.12, 18.29, 18.06, 18.23,\n",
       "       18.22, 18.32, 18.37, 18.19, 18.26, 18.29, 18.52, 18.32, 18.33,\n",
       "       18.2 , 18.02, 18.09, 18.26, 18.41, 18.28, 18.34, 18.27, 18.37,\n",
       "       18.06, 18.05])"
      ]
     },
     "execution_count": 14,
     "metadata": {},
     "output_type": "execute_result"
    }
   ],
   "source": [
    "# simulate weight(kg) at age 5 in normal distribution, n=200\n",
    "# mean = 18.3, sd = 0.14\n",
    "weight_5 = np.around(np.random.normal(loc=18.3, scale=0.14, size=200), decimals=2)\n",
    "weight_5"
   ]
  },
  {
   "cell_type": "code",
   "execution_count": 4,
   "id": "667c00a9-93d3-4ec1-bf21-03af8af95950",
   "metadata": {},
   "outputs": [
    {
     "data": {
      "text/plain": [
       "<seaborn.axisgrid.FacetGrid at 0x22446d737f0>"
      ]
     },
     "execution_count": 4,
     "metadata": {},
     "output_type": "execute_result"
    },
    {
     "data": {
      "image/png": "[encoded data removed]",
      "text/plain": [
       "<Figure size 360x360 with 1 Axes>"
      ]
     },
     "metadata": {
      "needs_background": "light"
     },
     "output_type": "display_data"
    }
   ],
   "source": [
    "#ploting distribution of weight at age 5\n",
    "sns.displot(weight_5, kde=True)"
   ]
  },
  {
   "cell_type": "markdown",
   "id": "826bb011-5420-4fba-9fa1-7a14cd3a30e0",
   "metadata": {},
   "source": [
    "#### 2. Height at age 5\n",
    "Height is generally normally distributed and is measure in cm. Based on data from [WHO](https://cdn.who.int/media/docs/default-source/child-growth/child-growth-standards/indicators/length-height-for-age/hfa_boys_2_5_zscoresba2ba0820f064f4abf5915abac01e894.pdf?sfvrsn=4d77e340_9), children's Height at age 5 is in range of 99.2 - 120.7cm, with mean and median at 110cm.\n"
   ]
  },
  {
   "cell_type": "code",
   "execution_count": 15,
   "id": "09ac93db-b09b-4973-96f4-c926a08920e7",
   "metadata": {
    "scrolled": true,
    "tags": []
   },
   "outputs": [
    {
     "data": {
      "text/plain": [
       "array([116.28, 102.33, 104.27, 109.41, 109.57, 113.54, 105.19, 109.92,\n",
       "       108.34,  97.93, 110.55, 121.29, 102.96, 103.38, 115.19, 104.34,\n",
       "       106.49, 101.44, 112.82, 110.83, 114.32, 116.62, 107.73, 110.99,\n",
       "       111.1 , 107.56, 108.73,  99.04, 111.96, 108.94, 118.27, 109.22,\n",
       "       103.36, 107.61, 111.39, 114.77, 105.47, 102.49, 106.38, 113.27,\n",
       "       107.7 , 105.79,  99.61, 116.94, 109.82, 113.85, 111.22, 115.39,\n",
       "       111.38, 111.38, 107.72, 111.04, 120.2 , 108.12, 101.35, 109.72,\n",
       "       113.54, 113.52, 109.85, 113.59, 117.21, 103.87, 107.97, 113.47,\n",
       "       111.12, 112.23, 108.9 , 108.89, 108.77, 108.37, 110.61, 113.84,\n",
       "       111.3 ,  96.98, 116.45, 117.41, 109.54, 116.77, 110.71, 109.46,\n",
       "       108.35, 108.41, 105.83, 105.66, 113.46, 100.92, 105.33, 111.1 ,\n",
       "       115.9 , 114.69, 110.66, 108.34, 109.3 , 118.96, 110.68, 105.13,\n",
       "       108.63, 109.77, 109.12, 116.92, 105.84, 107.73, 108.41, 107.5 ,\n",
       "       110.15, 108.8 , 104.02, 106.09, 107.14, 100.4 , 110.42, 115.03,\n",
       "       110.79, 102.7 , 115.4 , 107.34, 119.  , 111.02, 114.76, 110.04,\n",
       "       112.61, 108.82, 115.78, 115.  , 113.61, 116.04, 118.14, 109.16,\n",
       "       107.01, 109.83, 113.92, 113.34, 109.09, 113.43, 111.02, 113.02,\n",
       "       108.93, 103.07, 116.24, 108.79, 115.13, 116.89, 108.58, 106.19,\n",
       "       117.03, 105.55, 115.06, 107.16, 110.52, 115.1 , 113.27, 112.38,\n",
       "       117.18, 105.15, 114.08, 108.92, 107.77, 107.15, 110.99, 109.26,\n",
       "       109.85, 107.73, 104.29, 117.66, 114.3 , 109.1 , 110.02, 107.6 ,\n",
       "       121.09, 115.73, 115.37, 108.16, 112.41, 119.15, 117.41, 107.36,\n",
       "       108.28, 106.9 , 110.71, 114.39, 104.43, 110.91, 117.87, 110.42,\n",
       "       114.22, 106.03, 106.64, 115.5 , 106.41, 110.81, 119.16, 117.93,\n",
       "       108.85, 104.54,  98.55, 116.34, 112.68, 107.48, 116.96, 106.02])"
      ]
     },
     "execution_count": 15,
     "metadata": {},
     "output_type": "execute_result"
    }
   ],
   "source": [
    "# simulate height(cm) at age 5 in normal distribution, n=200\n",
    "# mean = 110, sd = 4.6\n",
    "height_5 = np.around(np.random.normal(loc=110.0, scale=4.6, size=200), decimals=2)\n",
    "height_5"
   ]
  },
  {
   "cell_type": "code",
   "execution_count": 6,
   "id": "d2a9cdbe-e014-4dfd-a3c6-4cae1d7674a0",
   "metadata": {},
   "outputs": [
    {
     "data": {
      "text/plain": [
       "<seaborn.axisgrid.FacetGrid at 0x22447fe6760>"
      ]
     },
     "execution_count": 6,
     "metadata": {},
     "output_type": "execute_result"
    },
    {
     "data": {
      "image/png": "[encoded data removed]",
      "text/plain": [
       "<Figure size 360x360 with 1 Axes>"
      ]
     },
     "metadata": {
      "needs_background": "light"
     },
     "output_type": "display_data"
    }
   ],
   "source": [
    "#ploting distribution of height at age 5\n",
    "sns.displot(height_5, kde=True)"
   ]
  },
  {
   "cell_type": "markdown",
   "id": "fa74a584-18a0-46d0-a74b-dc59177658a7",
   "metadata": {},
   "source": [
    "#### 3. Birth weight\n",
    "Weight at birth is normal distribution and is positively coorelated to weight at a later point in a person's life. Based on data from [WHO](https://cdn.who.int/media/docs/default-source/child-growth/child-growth-standards/indicators/weight-for-age/wfa-boys-0-13-percentiles.pdf?sfvrsn=292d03f1_11), birth weight in kg is in range of 2.3 - 4.6kg, with mean and median at 3.3kg.\n"
   ]
  },
  {
   "cell_type": "code",
   "execution_count": 16,
   "id": "dcb206aa-8c57-4293-a88d-1a9aa498cbdf",
   "metadata": {
    "scrolled": true,
    "tags": []
   },
   "outputs": [
    {
     "data": {
      "text/plain": [
       "array([3.38, 3.14, 3.36, 3.14, 3.03, 3.38, 3.38, 3.23, 3.1 , 3.22, 3.46,\n",
       "       3.42, 2.96, 3.22, 2.82, 3.17, 3.31, 3.44, 3.44, 3.31, 3.44, 3.27,\n",
       "       3.29, 3.39, 3.34, 3.58, 3.4 , 3.3 , 3.23, 3.25, 3.22, 3.26, 3.17,\n",
       "       3.32, 3.2 , 3.43, 3.29, 3.51, 3.37, 3.02, 3.43, 3.57, 3.39, 3.55,\n",
       "       3.46, 3.38, 3.14, 3.51, 3.05, 3.42, 3.43, 3.2 , 3.44, 3.19, 3.43,\n",
       "       3.14, 3.18, 3.43, 3.29, 3.59, 3.36, 3.47, 3.23, 3.61, 3.5 , 3.31,\n",
       "       3.47, 3.35, 3.54, 3.31, 3.23, 3.36, 2.89, 3.41, 3.12, 3.35, 3.59,\n",
       "       3.29, 3.5 , 3.28, 3.59, 3.45, 3.51, 3.32, 3.3 , 3.56, 3.46, 3.  ,\n",
       "       3.43, 3.45, 3.13, 3.36, 3.55, 3.13, 3.74, 3.53, 3.37, 3.21, 3.24,\n",
       "       3.32, 3.49, 3.12, 3.24, 3.48, 3.22, 3.34, 3.25, 3.2 , 3.51, 3.49,\n",
       "       3.23, 3.18, 3.61, 3.41, 3.42, 3.38, 2.98, 3.44, 3.49, 3.31, 3.49,\n",
       "       3.17, 3.12, 3.4 , 3.16, 3.31, 3.22, 3.29, 3.  , 3.09, 3.03, 2.92,\n",
       "       3.21, 3.3 , 3.4 , 3.29, 3.36, 3.23, 3.26, 3.15, 3.47, 3.53, 3.21,\n",
       "       2.91, 3.39, 3.43, 3.17, 3.54, 3.37, 3.4 , 3.15, 3.1 , 3.39, 3.28,\n",
       "       3.36, 3.48, 3.28, 3.23, 3.42, 3.31, 3.2 , 3.22, 3.52, 3.4 , 3.27,\n",
       "       3.64, 3.51, 3.35, 3.3 , 3.35, 3.4 , 3.29, 3.49, 3.2 , 3.33, 3.15,\n",
       "       3.43, 3.49, 3.32, 3.51, 3.37, 3.48, 3.02, 3.34, 3.38, 3.33, 3.4 ,\n",
       "       3.21, 3.47, 3.51, 3.44, 3.54, 3.23, 3.32, 3.35, 3.31, 3.33, 3.5 ,\n",
       "       3.52, 3.18])"
      ]
     },
     "execution_count": 16,
     "metadata": {},
     "output_type": "execute_result"
    }
   ],
   "source": [
    "# simulate birthweight(kg) in normal distribution, n=200\n",
    "# mean = 3.3, sd = 0.15(b)\n",
    "birthWeight = np.around(np.random.normal(loc=3.30, scale=0.15, size=200), decimals=2)\n",
    "birthWeight"
   ]
  },
  {
   "cell_type": "code",
   "execution_count": 8,
   "id": "ab1ce520-888b-47e8-88e7-812a97012f9e",
   "metadata": {},
   "outputs": [
    {
     "data": {
      "text/plain": [
       "<seaborn.axisgrid.FacetGrid at 0x2244801d820>"
      ]
     },
     "execution_count": 8,
     "metadata": {},
     "output_type": "execute_result"
    },
    {
     "data": {
      "image/png": "[encoded data removed]",
      "text/plain": [
       "<Figure size 360x360 with 1 Axes>"
      ]
     },
     "metadata": {
      "needs_background": "light"
     },
     "output_type": "display_data"
    }
   ],
   "source": [
    "#ploting distribution of birthweight\n",
    "sns.displot(birthWeight, kde=True)"
   ]
  },
  {
   "cell_type": "markdown",
   "id": "f84e2e68-cd23-4894-b7eb-688d70ef6ba0",
   "metadata": {},
   "source": [
    "#### 4. Sedentary lifestyle\n",
    "Sedentary lifestyle which is measured as number of hours spent on watching tv or playing video games per day. In the synthesized dataset, it will be categorized as \"yes\" or \"no\". According to a [report](https://www.dcu.ie/sites/default/files/shhp/docs/ReportCardIreland2014_LongForm_Final.pdf) from DCU in 2014, 79% of primary and 71% of post-primary children reported watching more than 2 hours of TV per day. As age 5 is around primary school age, 79% will be used to synthesize the dataset."
   ]
  },
  {
   "cell_type": "code",
   "execution_count": 9,
   "id": "f5bc909b-c251-4e61-8fd6-ad1cfd93c303",
   "metadata": {},
   "outputs": [
    {
     "data": {
      "text/plain": [
       "array([1, 1, 1, 1, 1, 1, 1, 1, 1, 0, 1, 0, 0, 1, 1, 0, 1, 1, 1, 1, 1, 1,\n",
       "       1, 1, 0, 1, 0, 1, 1, 1, 1, 0, 1, 1, 1, 0, 0, 0, 1, 1, 0, 1, 1, 1,\n",
       "       0, 1, 1, 1, 1, 0, 1, 1, 1, 1, 1, 1, 1, 1, 0, 1, 1, 1, 1, 1, 0, 0,\n",
       "       1, 1, 1, 1, 1, 1, 1, 1, 1, 1, 1, 1, 1, 1, 1, 1, 1, 1, 1, 1, 1, 1,\n",
       "       0, 1, 1, 1, 1, 1, 1, 1, 1, 1, 1, 1, 1, 1, 1, 1, 0, 0, 1, 1, 1, 0,\n",
       "       1, 1, 1, 1, 1, 1, 1, 1, 1, 1, 1, 1, 1, 1, 1, 0, 1, 1, 1, 1, 1, 1,\n",
       "       1, 1, 1, 1, 1, 1, 1, 0, 1, 1, 1, 0, 1, 1, 0, 1, 1, 0, 1, 1, 0, 1,\n",
       "       0, 1, 1, 1, 1, 1, 0, 1, 0, 1, 1, 0, 0, 0, 1, 1, 1, 1, 0, 1, 1, 1,\n",
       "       1, 0, 1, 1, 1, 0, 1, 1, 0, 1, 1, 1, 1, 1, 1, 1, 0, 1, 1, 1, 0, 0,\n",
       "       1, 1])"
      ]
     },
     "execution_count": 9,
     "metadata": {},
     "output_type": "execute_result"
    }
   ],
   "source": [
    "# simulate sedatary lifestyle, yes=1, no=0\n",
    "n,p = (1, .79)\n",
    "lifestyle = np.random.binomial(n,p,200)\n",
    "lifestyle"
   ]
  },
  {
   "cell_type": "markdown",
   "id": "5461c67b-58d3-4d17-b03f-a81d767d08e8",
   "metadata": {},
   "source": [
    "#### 5. Family income\n",
    "Based on [CSO data](https://www.cso.ie/en/releasesandpublications/ep/p-gpii/geographicalprofilesofincomeinireland2016/incomeinireland/) in 2016 on household gross income, it will be divided into following categories: \n",
    "- €0 to 20,000 :19.3%\n",
    "- €20,001 to 40,000 :25.7%\n",
    "- €40,001 to 60,000 :19.1%\n",
    "- €60,001 or above :35.9%\n"
   ]
  },
  {
   "cell_type": "code",
   "execution_count": 10,
   "id": "3b91e98e-680c-44dd-afd6-d3c0859c6400",
   "metadata": {},
   "outputs": [
    {
     "data": {
      "text/plain": [
       "array([3, 2, 2, 2, 0, 1, 3, 3, 1, 0, 2, 1, 1, 3, 0, 3, 1, 2, 3, 1, 2, 3,\n",
       "       3, 3, 3, 2, 3, 2, 2, 3, 0, 2, 0, 3, 3, 1, 3, 1, 3, 2, 1, 2, 0, 3,\n",
       "       1, 3, 0, 2, 0, 0, 1, 3, 0, 3, 3, 3, 3, 1, 1, 0, 1, 3, 0, 1, 3, 0,\n",
       "       2, 1, 0, 0, 1, 3, 3, 1, 3, 1, 3, 0, 1, 3, 0, 3, 2, 2, 0, 1, 1, 0,\n",
       "       2, 0, 0, 0, 0, 2, 3, 2, 3, 2, 1, 0, 2, 1, 1, 0, 3, 3, 2, 2, 2, 0,\n",
       "       1, 0, 0, 3, 3, 1, 1, 1, 3, 0, 0, 2, 3, 3, 3, 3, 0, 2, 2, 3, 3, 0,\n",
       "       1, 0, 0, 0, 3, 3, 3, 2, 0, 0, 2, 3, 3, 3, 3, 1, 3, 3, 2, 2, 2, 1,\n",
       "       2, 2, 2, 3, 2, 2, 3, 0, 0, 1, 3, 0, 3, 1, 2, 1, 3, 1, 0, 3, 3, 3,\n",
       "       3, 1, 1, 2, 2, 2, 3, 2, 2, 3, 0, 1, 2, 1, 0, 1, 3, 1, 1, 1, 1, 1,\n",
       "       1, 1], dtype=int64)"
      ]
     },
     "execution_count": 10,
     "metadata": {},
     "output_type": "execute_result"
    }
   ],
   "source": [
    "# simulate family income, 4 categories\n",
    "# 0:€0-20000; 1:€20001-40000; 2:€40001-60000; 3:€60001+\n",
    "income = rng.choice(4, 200, p=[.193, .257, .191, .359])\n",
    "income"
   ]
  },
  {
   "cell_type": "markdown",
   "id": "3a851903-a75a-4a21-af65-a6d92c49bfaa",
   "metadata": {},
   "source": [
    "#### 6. Primary carer education level\n",
    "Research showed that education level of primary carer is negatively associated with obesity level, meaning higher education level associated with lover obesity levels. Primary carer education level will be divided into 3 categories. From [CSO data](https://www.cso.ie/en/releasesandpublications/ep/p-eda/educationalattainmentthematicreport2021/introductionandsummaryofresults/) of 2021, the distribution of education level among population aged 25-64 as follow:\n",
    "1.Primary or below: 4% \n",
    "2.Secondary: 29%\n",
    "3.Post leaving certificate: 67%"
   ]
  },
  {
   "cell_type": "code",
   "execution_count": 11,
   "id": "5efb8c42-aa30-41b6-a0f3-d3edf1b6ba90",
   "metadata": {},
   "outputs": [
    {
     "data": {
      "text/plain": [
       "array([2, 2, 2, 0, 1, 2, 0, 2, 1, 2, 1, 1, 2, 2, 2, 1, 2, 2, 2, 1, 1, 1,\n",
       "       1, 2, 2, 2, 2, 1, 2, 1, 2, 2, 1, 1, 2, 1, 1, 2, 2, 2, 2, 1, 1, 2,\n",
       "       1, 2, 2, 1, 2, 1, 2, 0, 2, 2, 2, 2, 2, 1, 2, 2, 2, 2, 2, 2, 2, 2,\n",
       "       2, 2, 2, 2, 2, 2, 2, 1, 2, 1, 1, 1, 2, 2, 2, 1, 2, 2, 1, 2, 1, 1,\n",
       "       2, 1, 2, 1, 1, 1, 2, 2, 1, 2, 2, 2, 1, 2, 2, 2, 2, 0, 2, 1, 2, 1,\n",
       "       1, 2, 2, 1, 2, 1, 2, 1, 2, 2, 2, 2, 2, 1, 1, 2, 1, 1, 0, 2, 1, 2,\n",
       "       2, 2, 2, 0, 2, 2, 2, 2, 1, 1, 2, 1, 1, 2, 1, 2, 2, 1, 2, 2, 2, 2,\n",
       "       1, 2, 1, 1, 2, 1, 2, 1, 1, 1, 2, 1, 2, 2, 1, 2, 1, 2, 0, 2, 1, 2,\n",
       "       2, 2, 2, 2, 1, 1, 2, 1, 2, 2, 2, 1, 2, 2, 1, 2, 1, 2, 2, 2, 2, 1,\n",
       "       1, 2], dtype=int64)"
      ]
     },
     "execution_count": 11,
     "metadata": {},
     "output_type": "execute_result"
    }
   ],
   "source": [
    "# simulate primary carer education level, 3 categories\n",
    "# 0=primary or lower, 1=secondary, 2=tertiary or higher\n",
    "eduLevel = rng.choice(3, 200, p=[.04,.29,.67])\n",
    "eduLevel"
   ]
  },
  {
   "cell_type": "code",
   "execution_count": null,
   "id": "28d24140",
   "metadata": {},
   "outputs": [],
   "source": [
    "#sns.displot(lifestyle, kind=\"hist\")"
   ]
  },
  {
   "cell_type": "code",
   "execution_count": null,
   "id": "f08b5691",
   "metadata": {},
   "outputs": [],
   "source": [
    "\n",
    "#sns.displot(eduLevel)\n"
   ]
  },
  {
   "cell_type": "markdown",
   "id": "bcb77888-693b-438e-9883-d25b583d53f4",
   "metadata": {},
   "source": [
    "# Putting it altogether"
   ]
  },
  {
   "cell_type": "code",
   "execution_count": null,
   "id": "58379e6c-6123-45cd-8c82-8482223b5141",
   "metadata": {},
   "outputs": [],
   "source": [
    "# features contains the list of columns in the dataset\n",
    "#feature_list[weight_5, height_5, birthWeight, lifestyle, income, eduLevel]\n",
    "#x = np.c_[weight_5, height_5, birthWeight, lifestyle, income, eduLevel]\n",
    "#features_3\n",
    "# np.column_stack((feature1,feature2...))\n",
    "# np.hstack((nparrayA,nparryB))\n",
    "#x"
   ]
  },
  {
   "cell_type": "code",
   "execution_count": null,
   "id": "8a82535b-45e8-4457-82c8-1406944e9d16",
   "metadata": {},
   "outputs": [],
   "source": [
    "# the output labels vary from 0-3\n",
    "#y = [int(np.random.randint(0, 7)) for i in range(200)]\n"
   ]
  },
  {
   "cell_type": "code",
   "execution_count": 17,
   "id": "585f81c3-9ef7-458b-8c56-b440b365e70c",
   "metadata": {},
   "outputs": [
    {
     "data": {
      "text/html": [
       "<div>\n",
       "<style scoped>\n",
       "    .dataframe tbody tr th:only-of-type {\n",
       "        vertical-align: middle;\n",
       "    }\n",
       "\n",
       "    .dataframe tbody tr th {\n",
       "        vertical-align: top;\n",
       "    }\n",
       "\n",
       "    .dataframe thead th {\n",
       "        text-align: right;\n",
       "    }\n",
       "</style>\n",
       "<table border=\"1\" class=\"dataframe\">\n",
       "  <thead>\n",
       "    <tr style=\"text-align: right;\">\n",
       "      <th></th>\n",
       "      <th>Weight at 5</th>\n",
       "      <th>Height at 5</th>\n",
       "      <th>Birth weight</th>\n",
       "      <th>Sedentary lifestyle</th>\n",
       "      <th>Family Income level</th>\n",
       "      <th>Primary carer education level</th>\n",
       "    </tr>\n",
       "  </thead>\n",
       "  <tbody>\n",
       "    <tr>\n",
       "      <th>0</th>\n",
       "      <td>18.35</td>\n",
       "      <td>116.28</td>\n",
       "      <td>3.38</td>\n",
       "      <td>1</td>\n",
       "      <td>3</td>\n",
       "      <td>2</td>\n",
       "    </tr>\n",
       "    <tr>\n",
       "      <th>1</th>\n",
       "      <td>18.39</td>\n",
       "      <td>102.33</td>\n",
       "      <td>3.14</td>\n",
       "      <td>1</td>\n",
       "      <td>2</td>\n",
       "      <td>2</td>\n",
       "    </tr>\n",
       "    <tr>\n",
       "      <th>2</th>\n",
       "      <td>18.24</td>\n",
       "      <td>104.27</td>\n",
       "      <td>3.36</td>\n",
       "      <td>1</td>\n",
       "      <td>2</td>\n",
       "      <td>2</td>\n",
       "    </tr>\n",
       "    <tr>\n",
       "      <th>3</th>\n",
       "      <td>18.18</td>\n",
       "      <td>109.41</td>\n",
       "      <td>3.14</td>\n",
       "      <td>1</td>\n",
       "      <td>2</td>\n",
       "      <td>0</td>\n",
       "    </tr>\n",
       "    <tr>\n",
       "      <th>4</th>\n",
       "      <td>18.58</td>\n",
       "      <td>109.57</td>\n",
       "      <td>3.03</td>\n",
       "      <td>1</td>\n",
       "      <td>0</td>\n",
       "      <td>1</td>\n",
       "    </tr>\n",
       "    <tr>\n",
       "      <th>...</th>\n",
       "      <td>...</td>\n",
       "      <td>...</td>\n",
       "      <td>...</td>\n",
       "      <td>...</td>\n",
       "      <td>...</td>\n",
       "      <td>...</td>\n",
       "    </tr>\n",
       "    <tr>\n",
       "      <th>195</th>\n",
       "      <td>18.34</td>\n",
       "      <td>116.34</td>\n",
       "      <td>3.31</td>\n",
       "      <td>1</td>\n",
       "      <td>1</td>\n",
       "      <td>2</td>\n",
       "    </tr>\n",
       "    <tr>\n",
       "      <th>196</th>\n",
       "      <td>18.27</td>\n",
       "      <td>112.68</td>\n",
       "      <td>3.33</td>\n",
       "      <td>0</td>\n",
       "      <td>1</td>\n",
       "      <td>2</td>\n",
       "    </tr>\n",
       "    <tr>\n",
       "      <th>197</th>\n",
       "      <td>18.37</td>\n",
       "      <td>107.48</td>\n",
       "      <td>3.50</td>\n",
       "      <td>0</td>\n",
       "      <td>1</td>\n",
       "      <td>1</td>\n",
       "    </tr>\n",
       "    <tr>\n",
       "      <th>198</th>\n",
       "      <td>18.06</td>\n",
       "      <td>116.96</td>\n",
       "      <td>3.52</td>\n",
       "      <td>1</td>\n",
       "      <td>1</td>\n",
       "      <td>1</td>\n",
       "    </tr>\n",
       "    <tr>\n",
       "      <th>199</th>\n",
       "      <td>18.05</td>\n",
       "      <td>106.02</td>\n",
       "      <td>3.18</td>\n",
       "      <td>1</td>\n",
       "      <td>1</td>\n",
       "      <td>2</td>\n",
       "    </tr>\n",
       "  </tbody>\n",
       "</table>\n",
       "<p>200 rows × 6 columns</p>\n",
       "</div>"
      ],
      "text/plain": [
       "     Weight at 5  Height at 5  Birth weight  Sedentary lifestyle  \\\n",
       "0          18.35       116.28          3.38                    1   \n",
       "1          18.39       102.33          3.14                    1   \n",
       "2          18.24       104.27          3.36                    1   \n",
       "3          18.18       109.41          3.14                    1   \n",
       "4          18.58       109.57          3.03                    1   \n",
       "..           ...          ...           ...                  ...   \n",
       "195        18.34       116.34          3.31                    1   \n",
       "196        18.27       112.68          3.33                    0   \n",
       "197        18.37       107.48          3.50                    0   \n",
       "198        18.06       116.96          3.52                    1   \n",
       "199        18.05       106.02          3.18                    1   \n",
       "\n",
       "     Family Income level  Primary carer education level  \n",
       "0                      3                              2  \n",
       "1                      2                              2  \n",
       "2                      2                              2  \n",
       "3                      2                              0  \n",
       "4                      0                              1  \n",
       "..                   ...                            ...  \n",
       "195                    1                              2  \n",
       "196                    1                              2  \n",
       "197                    1                              1  \n",
       "198                    1                              1  \n",
       "199                    1                              2  \n",
       "\n",
       "[200 rows x 6 columns]"
      ]
     },
     "execution_count": 17,
     "metadata": {},
     "output_type": "execute_result"
    }
   ],
   "source": [
    "import pandas as pd\n",
    "# defining a pandas data frame to save\n",
    "# the data for later use\n",
    "data = pd.DataFrame()\n",
    " \n",
    "# defining the columns of the dataset\n",
    "data['Weight at 5'] = weight_5\n",
    "data['Height at 5'] = height_5\n",
    "data['Birth weight'] = birthWeight\n",
    "data['Sedentary lifestyle'] = lifestyle\n",
    "data['Family Income level'] = income\n",
    "data['Primary carer education level'] = eduLevel\n",
    "\n",
    "data"
   ]
  },
  {
   "cell_type": "markdown",
   "id": "3547cd0e-ac34-4ca4-984b-502339db493c",
   "metadata": {},
   "source": [
    "## References\n",
    "***\n"
   ]
  },
  {
   "cell_type": "markdown",
   "id": "56b20ea1-4fc9-4720-a44e-9a1978b1d092",
   "metadata": {},
   "source": [
    "[Risk factors for childhood obesity at age 5: Analysis of the Millennium Cohort Study](https://bmcpublichealth.biomedcentral.com/articles/10.1186/1471-2458-9-467) <br>\n",
    "[Distribution of body mass index in children with different parental risk: Findings of a family-based cohort study in a West-Asian population](https://www.nature.com/articles/s41598-019-45543-y) <br>"
   ]
  },
  {
   "cell_type": "markdown",
   "id": "d2ec1cfa-f887-4e49-8beb-a38cba7280a5",
   "metadata": {},
   "source": [
    "[https://towardsdatascience.com/synthetic-data-generation-a-must-have-skill-for-new-data-scientists-915896c0c1ae] <br>\n",
    "[https://www.geeksforgeeks.org/python-generate-test-datasets-for-machine-learning/]"
   ]
  },
  {
   "cell_type": "code",
   "execution_count": null,
   "id": "16ad782e-1e9c-4c34-9dbf-a852d85cba9b",
   "metadata": {},
   "outputs": [],
   "source": []
  }
 ],
 "metadata": {
  "kernelspec": {
   "display_name": "Python 3",
   "language": "python",
   "name": "python3"
  },
  "language_info": {
   "codemirror_mode": {
    "name": "ipython",
    "version": 3
   },
   "file_extension": ".py",
   "mimetype": "text/x-python",
   "name": "python",
   "nbconvert_exporter": "python",
   "pygments_lexer": "ipython3",
   "version": "3.8.8"
  }
 },
 "nbformat": 4,
 "nbformat_minor": 5
}
