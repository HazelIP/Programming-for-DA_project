{
 "cells": [
  {
   "cell_type": "markdown",
   "id": "32feab68-849f-4e43-8a29-bf78a9bb3404",
   "metadata": {},
   "source": [
    "# Synthesizing a dataset \"Childhood Obesity\" \n",
    "\n",
    "This notebook demostrates the process of synthesizing a data set using numpy.random packgage based on a real world phenomenon. \n",
    "***\n",
    "The notebooks starts off with some background of the topic of interest \"Childhood Obesity\". Based on research review, a list of variables are identified which are related to childhood obesity. A synthesized dataset with 6 variables and 200 data points in a `pandas dataframe` is produced at the end.  "
   ]
  },
  {
   "cell_type": "markdown",
   "id": "ebd6ddf6",
   "metadata": {},
   "source": [
    "# The topic: Children obesity"
   ]
  },
  {
   "cell_type": "markdown",
   "id": "5013792a",
   "metadata": {},
   "source": [
    "## Severity of children obesity and its implication\n",
    "\n",
    "According to [WHO](https://www.who.int/news-room/fact-sheets/detail/obesity-and-overweight), there is a worldwide rising trend of obesity. In a study done in 2016, there are over 340 million children and adolescents aged 5-19 were overweight or obese. Overweight and obesity is a major risk factor of cardiovascular diseases and some cancers including endometrial, breast, ovarian, prostate, liver, gallbladder, kidney, and colon. \n",
    "With the rising trend of obesity worldwide which would in turn strain the healthcare system. It is benificial to closely monitor and predict the trend, and plan as well as allocate resourse to tackle the problem accordingly. \n",
    "\n",
    "Research also showed that **childhood obesity is a strong predictor of adult obesity**. Some 55% of young children with obesity will remain obese into adolescence and for 80% of adolescents with obesity, the obesity will persist into adulthood[[1]](https://www.hse.ie/eng/about/who/healthwellbeing/our-priority-programmes/child-health-and-wellbeing/hwfc.pdf).\n",
    "\n",
    "## Factors related to childhood obesity\n",
    "\n",
    "Childhood obesity is a multi-factorial condition influenced by family lifestyle, genetic predisposition and the socio-economical status. Children's lifestyle are  directly or indirectly affected by family environments, parents’ role and behavioral modeling. A synthesiezed dataset will take into account of those factors [[2]](https://pubmed.ncbi.nlm.nih.gov/20015353/)[[3]](https://www.nature.com/articles/s41598-019-45543-y).\n"
   ]
  },
  {
   "cell_type": "markdown",
   "id": "8b96839c",
   "metadata": {},
   "source": [
    "## The variables\n",
    "***\n",
    "\n",
    "As research suggested children's weight at age 5 is a result of several aspects of factors, including genetic, family environment and socio-economical. The dataset consists of the following variables reflecting the real world scenario. \n",
    "\n",
    "Body Mass Index(BMI) can be calculated using variable `Weight at age 5` and `Height at age 5`. While `Height at age 5` is in cm, it has to be divided by 100 to transform to meter and perform the fomular $$BMI=\\frac{Weight}{Height^2} $$\n",
    "\n",
    "\n",
    "**List of variables:**\n",
    "1. Weight at age 5 (kg)\n",
    "2. Height at age 5 (cm)\n",
    "3. Birth weight (kg)\n",
    "4. Sedentary lifestyle\n",
    "5. Family income\n",
    "6. Primary carer education level\n"
   ]
  },
  {
   "cell_type": "markdown",
   "id": "3442b421-a907-4ceb-95a4-b8f427709ca8",
   "metadata": {},
   "source": [
    "\n",
    "\n"
   ]
  },
  {
   "cell_type": "markdown",
   "id": "560c7a35-5419-4948-aaf2-8b612d819a4b",
   "metadata": {},
   "source": [
    "### Properties of variables\n",
    "***\n",
    "\n",
    "#### 1. Weight at age 5\n",
    "Weight is generally normally distributed and is measure in kg. Based on data from [WHO](https://cdn.who.int/media/docs/default-source/child-growth/child-growth-standards/indicators/weight-for-age/wfa-boys-0-5-percentiles.pdf?sfvrsn=488e74e6_11), children's weight at age 5 is in range of 13.5 -25.3kg, with mean and median at 18.3kg.\n"
   ]
  },
  {
   "cell_type": "code",
   "execution_count": 1,
   "id": "498d6321-7db9-4b27-a4cb-58570408a67b",
   "metadata": {},
   "outputs": [],
   "source": [
    "# import packages\n",
    "import numpy as np\n",
    "import matplotlib.pyplot as plt\n",
    "import seaborn as sns"
   ]
  },
  {
   "cell_type": "code",
   "execution_count": 2,
   "id": "e783a6fd-72e8-461b-927a-750349ab4350",
   "metadata": {},
   "outputs": [],
   "source": [
    "# initialize random number generater and set seed\n",
    "rng = np.random.default_rng(112233)"
   ]
  },
  {
   "cell_type": "code",
   "execution_count": 3,
   "id": "3f39bd83-53ca-494b-9bac-c15a9cf87029",
   "metadata": {
    "scrolled": true,
    "tags": []
   },
   "outputs": [
    {
     "data": {
      "text/plain": [
       "array([18.52, 18.39, 18.36, 18.51, 18.13, 18.24, 18.18, 18.33, 18.22,\n",
       "       18.36, 18.13, 18.35, 18.19, 18.34, 18.36, 18.15, 18.29, 17.96,\n",
       "       18.23, 18.35, 18.35, 18.35, 18.68, 18.3 , 18.29, 18.32, 18.37,\n",
       "       18.41, 18.38, 18.23, 18.24, 18.45, 18.42, 18.04, 18.15, 18.18,\n",
       "       18.49, 18.51, 18.23, 18.34, 18.58, 18.28, 18.17, 18.32, 18.33,\n",
       "       18.5 , 18.61, 18.28, 18.25, 18.35, 18.28, 18.39, 18.2 , 18.65,\n",
       "       18.43, 18.01, 18.26, 18.22, 18.1 , 18.45, 18.28, 18.28, 18.35,\n",
       "       18.08, 18.43, 18.38, 18.17, 17.93, 18.46, 18.34, 18.2 , 18.41,\n",
       "       18.41, 18.52, 18.28, 18.18, 18.19, 18.41, 18.06, 18.3 , 18.09,\n",
       "       18.3 , 18.25, 18.43, 18.1 , 18.23, 18.2 , 18.28, 18.4 , 18.55,\n",
       "       18.48, 18.42, 18.41, 18.29, 18.09, 18.34, 18.21, 18.42, 18.39,\n",
       "       18.22, 18.49, 18.44, 18.45, 18.43, 18.28, 18.58, 18.33, 18.28,\n",
       "       18.41, 18.24, 18.27, 18.13, 18.19, 18.55, 18.2 , 18.24, 18.13,\n",
       "       18.16, 18.43, 18.09, 18.27, 18.22, 18.14, 18.18, 18.25, 18.2 ,\n",
       "       18.26, 18.37, 18.31, 18.37, 18.08, 18.38, 18.18, 18.49, 18.36,\n",
       "       18.45, 18.34, 18.53, 18.07, 18.17, 18.44, 18.07, 18.33, 18.31,\n",
       "       18.33, 18.27, 18.4 , 18.49, 18.2 , 18.32, 18.24, 18.31, 18.19,\n",
       "       18.46, 18.23, 18.4 , 18.39, 18.34, 18.26, 18.41, 18.46, 17.95,\n",
       "       18.42, 18.22, 18.19, 18.17, 18.6 , 18.07, 18.49, 18.01, 18.17,\n",
       "       18.1 , 18.23, 18.26, 18.21, 18.34, 18.28, 18.31, 18.17, 18.4 ,\n",
       "       18.36, 18.43, 18.21, 18.45, 18.32, 18.37, 18.3 , 18.25, 18.31,\n",
       "       18.44, 18.56, 18.29, 18.23, 18.35, 18.28, 18.39, 17.92, 18.31,\n",
       "       18.47, 18.44])"
      ]
     },
     "execution_count": 3,
     "metadata": {},
     "output_type": "execute_result"
    }
   ],
   "source": [
    "# simulate weight(kg) at age 5 in normal distribution, n=200\n",
    "# mean = 18.3, sd = 0.14\n",
    "weight_5 = np.around(np.random.normal(loc=18.3, scale=0.14, size=200), decimals=2)\n",
    "weight_5"
   ]
  },
  {
   "cell_type": "code",
   "execution_count": 56,
   "id": "667c00a9-93d3-4ec1-bf21-03af8af95950",
   "metadata": {},
   "outputs": [
    {
     "data": {
      "text/plain": [
       "Text(0.5, 1.0, 'Weight at age 5 in kg')"
      ]
     },
     "execution_count": 56,
     "metadata": {},
     "output_type": "execute_result"
    },
    {
     "data": {
      "image/png": "[encoded data removed]",
      "text/plain": [
       "<Figure size 360x360 with 1 Axes>"
      ]
     },
     "metadata": {
      "needs_background": "light"
     },
     "output_type": "display_data"
    }
   ],
   "source": [
    "#ploting distribution of weight at age 5\n",
    "sns.displot(weight_5, kde=True)\n",
    "plt.title(\"Weight at age 5 in kg\")"
   ]
  },
  {
   "cell_type": "markdown",
   "id": "826bb011-5420-4fba-9fa1-7a14cd3a30e0",
   "metadata": {},
   "source": [
    "#### 2. Height at age 5\n",
    "Height is generally normally distributed and is measure in cm. Based on data from [WHO](https://cdn.who.int/media/docs/default-source/child-growth/child-growth-standards/indicators/length-height-for-age/hfa_boys_2_5_zscoresba2ba0820f064f4abf5915abac01e894.pdf?sfvrsn=4d77e340_9), children's Height at age 5 is in range of 99.2 - 120.7cm, with mean and median at 110cm.\n"
   ]
  },
  {
   "cell_type": "code",
   "execution_count": 5,
   "id": "09ac93db-b09b-4973-96f4-c926a08920e7",
   "metadata": {
    "scrolled": true,
    "tags": []
   },
   "outputs": [
    {
     "data": {
      "text/plain": [
       "array([108.77, 105.42, 104.77, 115.62, 108.98, 110.56, 113.75, 110.43,\n",
       "       111.4 , 109.24, 116.85, 102.96, 111.43, 113.88, 118.51, 111.64,\n",
       "       112.49, 113.99, 114.59, 102.22, 104.53, 103.26, 106.89, 114.38,\n",
       "       118.15, 107.02, 108.5 , 112.36, 105.63, 106.3 , 108.08, 118.88,\n",
       "       102.34, 114.23, 110.84, 107.61, 108.41, 114.23, 118.74, 109.78,\n",
       "       101.59, 103.06, 113.88, 108.85, 111.32, 105.39, 108.03, 113.38,\n",
       "       114.27, 104.31, 115.69, 116.34, 110.66, 116.18, 103.99, 102.03,\n",
       "       103.11, 110.63, 107.29, 110.44, 112.34, 114.2 , 106.1 , 108.52,\n",
       "       107.36, 110.47, 105.76, 115.21, 105.51, 111.88, 103.9 , 105.72,\n",
       "       104.33, 116.09, 118.2 , 101.98, 109.29, 101.18, 107.64, 109.61,\n",
       "       113.02, 107.07, 116.03, 112.01, 110.29, 114.2 , 112.86, 106.04,\n",
       "       115.13, 116.53, 113.91, 104.36, 112.57, 105.1 , 110.46, 113.51,\n",
       "       116.68, 107.22, 111.78, 108.15, 117.32, 104.17, 107.42, 106.77,\n",
       "       115.89, 104.52, 105.69, 110.84, 102.48, 103.79, 106.6 , 110.21,\n",
       "       106.93, 112.51, 111.66, 105.08, 105.17, 108.59, 114.53, 113.09,\n",
       "       111.46, 105.74, 113.45, 114.62, 113.04, 108.96, 103.86, 105.74,\n",
       "       117.93, 103.12, 104.44, 109.94, 105.46, 104.9 , 108.88, 108.79,\n",
       "       109.22, 109.68, 112.99, 103.23, 109.99, 109.81, 112.48, 109.83,\n",
       "       116.31, 107.33, 108.93, 112.41, 109.35, 110.16, 107.61, 110.3 ,\n",
       "       105.43, 104.43, 108.98, 108.06, 119.17, 111.8 , 103.46, 109.45,\n",
       "       110.93, 116.87, 112.15, 104.14, 109.27, 112.57, 117.67, 112.76,\n",
       "       106.35, 106.68, 111.93, 114.5 , 107.96, 105.08, 116.19, 109.39,\n",
       "       114.75, 114.08, 112.14, 106.45, 108.68, 106.09, 110.24, 104.59,\n",
       "       105.32, 114.38, 115.53, 109.53, 106.78, 107.06, 111.9 , 112.7 ,\n",
       "       111.65, 109.84, 108.64, 107.1 , 102.86, 111.59, 114.15, 106.53])"
      ]
     },
     "execution_count": 5,
     "metadata": {},
     "output_type": "execute_result"
    }
   ],
   "source": [
    "# simulate height(cm) at age 5 in normal distribution, n=200\n",
    "# mean = 110, sd = 4.6\n",
    "height_5 = np.around(np.random.normal(loc=110.0, scale=4.6, size=200), decimals=2)\n",
    "height_5"
   ]
  },
  {
   "cell_type": "code",
   "execution_count": 57,
   "id": "d2a9cdbe-e014-4dfd-a3c6-4cae1d7674a0",
   "metadata": {},
   "outputs": [
    {
     "data": {
      "text/plain": [
       "Text(0.5, 1.0, 'Height at age 5 in cm')"
      ]
     },
     "execution_count": 57,
     "metadata": {},
     "output_type": "execute_result"
    },
    {
     "data": {
      "image/png": "[encoded data removed]",
      "text/plain": [
       "<Figure size 360x360 with 1 Axes>"
      ]
     },
     "metadata": {
      "needs_background": "light"
     },
     "output_type": "display_data"
    }
   ],
   "source": [
    "#ploting distribution of height at age 5\n",
    "sns.displot(height_5, kde=True)\n",
    "plt.title(\"Height at age 5 in cm\")"
   ]
  },
  {
   "cell_type": "markdown",
   "id": "fa74a584-18a0-46d0-a74b-dc59177658a7",
   "metadata": {},
   "source": [
    "#### 3. Birth weight\n",
    "Weight at birth is normal distribution and is positively coorelated to weight at a later point in a person's life. Based on data from [WHO](https://cdn.who.int/media/docs/default-source/child-growth/child-growth-standards/indicators/weight-for-age/wfa-boys-0-13-percentiles.pdf?sfvrsn=292d03f1_11), birth weight in kg is in range of 2.3 - 4.6kg, with mean and median at 3.3kg.\n",
    "\n",
    "The multivariate normal distribution is often used to describe, at least approximately, any set of (possibly) correlated real-valued random variables each of which clusters around a mean value [[wikipedia]](https://en.wikipedia.org/wiki/Multivariate_normal_distribution#Two_normally_distributed_random_variables_need_not_be_jointly_bivariate_normal)."
   ]
  },
  {
   "cell_type": "code",
   "execution_count": 7,
   "id": "dcb206aa-8c57-4293-a88d-1a9aa498cbdf",
   "metadata": {
    "scrolled": true,
    "tags": []
   },
   "outputs": [
    {
     "data": {
      "text/plain": [
       "array([3.354, 3.328, 3.322, 3.352, 3.276, 3.298, 3.286, 3.316, 3.294,\n",
       "       3.322, 3.276, 3.32 , 3.288, 3.318, 3.322, 3.28 , 3.308, 3.242,\n",
       "       3.296, 3.32 , 3.32 , 3.32 , 3.386, 3.31 , 3.308, 3.314, 3.324,\n",
       "       3.332, 3.326, 3.296, 3.298, 3.34 , 3.334, 3.258, 3.28 , 3.286,\n",
       "       3.348, 3.352, 3.296, 3.318, 3.366, 3.306, 3.284, 3.314, 3.316,\n",
       "       3.35 , 3.372, 3.306, 3.3  , 3.32 , 3.306, 3.328, 3.29 , 3.38 ,\n",
       "       3.336, 3.252, 3.302, 3.294, 3.27 , 3.34 , 3.306, 3.306, 3.32 ,\n",
       "       3.266, 3.336, 3.326, 3.284, 3.236, 3.342, 3.318, 3.29 , 3.332,\n",
       "       3.332, 3.354, 3.306, 3.286, 3.288, 3.332, 3.262, 3.31 , 3.268,\n",
       "       3.31 , 3.3  , 3.336, 3.27 , 3.296, 3.29 , 3.306, 3.33 , 3.36 ,\n",
       "       3.346, 3.334, 3.332, 3.308, 3.268, 3.318, 3.292, 3.334, 3.328,\n",
       "       3.294, 3.348, 3.338, 3.34 , 3.336, 3.306, 3.366, 3.316, 3.306,\n",
       "       3.332, 3.298, 3.304, 3.276, 3.288, 3.36 , 3.29 , 3.298, 3.276,\n",
       "       3.282, 3.336, 3.268, 3.304, 3.294, 3.278, 3.286, 3.3  , 3.29 ,\n",
       "       3.302, 3.324, 3.312, 3.324, 3.266, 3.326, 3.286, 3.348, 3.322,\n",
       "       3.34 , 3.318, 3.356, 3.264, 3.284, 3.338, 3.264, 3.316, 3.312,\n",
       "       3.316, 3.304, 3.33 , 3.348, 3.29 , 3.314, 3.298, 3.312, 3.288,\n",
       "       3.342, 3.296, 3.33 , 3.328, 3.318, 3.302, 3.332, 3.342, 3.24 ,\n",
       "       3.334, 3.294, 3.288, 3.284, 3.37 , 3.264, 3.348, 3.252, 3.284,\n",
       "       3.27 , 3.296, 3.302, 3.292, 3.318, 3.306, 3.312, 3.284, 3.33 ,\n",
       "       3.322, 3.336, 3.292, 3.34 , 3.314, 3.324, 3.31 , 3.3  , 3.312,\n",
       "       3.338, 3.362, 3.308, 3.296, 3.32 , 3.306, 3.328, 3.234, 3.312,\n",
       "       3.344, 3.338])"
      ]
     },
     "execution_count": 7,
     "metadata": {},
     "output_type": "execute_result"
    }
   ],
   "source": [
    "# simulate birthweight(kg) in normal distribution, n=200\n",
    "# mean = 3.3, sd = 0.15(b)\n",
    "#birthWeight = np.around(np.random.normal(loc=3.30, scale=0.15, size=200), decimals=2)\n",
    "birthWeight = weight_5 /5 -.35\n",
    "birthWeight"
   ]
  },
  {
   "cell_type": "code",
   "execution_count": 58,
   "id": "ab1ce520-888b-47e8-88e7-812a97012f9e",
   "metadata": {},
   "outputs": [
    {
     "data": {
      "text/plain": [
       "Text(0.5, 1.0, 'Birth Weight in kg')"
      ]
     },
     "execution_count": 58,
     "metadata": {},
     "output_type": "execute_result"
    },
    {
     "data": {
      "image/png": "[encoded data removed]",
      "text/plain": [
       "<Figure size 360x360 with 1 Axes>"
      ]
     },
     "metadata": {
      "needs_background": "light"
     },
     "output_type": "display_data"
    }
   ],
   "source": [
    "#ploting distribution of birthweight\n",
    "sns.displot(birthWeight, kde=True)\n",
    "plt.title(\"Birth Weight in kg\")"
   ]
  },
  {
   "cell_type": "markdown",
   "id": "f84e2e68-cd23-4894-b7eb-688d70ef6ba0",
   "metadata": {},
   "source": [
    "#### 4. Sedentary lifestyle\n",
    "Sedentary lifestyle which is measured as number of hours spent on watching tv or playing video games per day. In the synthesized dataset, it will be categorized as \"yes\" or \"no\". According to a [report](https://www.dcu.ie/sites/default/files/shhp/docs/ReportCardIreland2014_LongForm_Final.pdf) from DCU in 2014, 79% of primary and 71% of post-primary children reported watching more than 2 hours of TV per day. As age 5 is around primary school age, 79% will be used to synthesize the dataset. Sedentary lifestyle is positively related to obesity."
   ]
  },
  {
   "cell_type": "code",
   "execution_count": 10,
   "id": "f5bc909b-c251-4e61-8fd6-ad1cfd93c303",
   "metadata": {},
   "outputs": [
    {
     "data": {
      "text/plain": [
       "array([1, 1, 1, 1, 1, 1, 1, 1, 1, 1, 1, 0, 1, 1, 0, 1, 1, 0, 1, 1, 1, 1,\n",
       "       1, 1, 1, 1, 0, 1, 1, 1, 1, 1, 1, 1, 1, 1, 0, 1, 0, 1, 1, 0, 1, 1,\n",
       "       1, 1, 1, 0, 1, 0, 1, 1, 0, 1, 1, 0, 0, 0, 0, 1, 1, 1, 1, 1, 1, 1,\n",
       "       1, 1, 1, 1, 0, 1, 1, 1, 1, 1, 0, 0, 1, 1, 1, 1, 1, 1, 1, 1, 1, 1,\n",
       "       1, 1, 0, 0, 1, 0, 1, 1, 1, 0, 1, 1, 1, 1, 1, 1, 1, 1, 0, 1, 1, 1,\n",
       "       1, 1, 1, 1, 1, 1, 1, 1, 1, 0, 1, 1, 0, 1, 1, 0, 1, 1, 1, 1, 1, 1,\n",
       "       1, 0, 1, 1, 1, 1, 1, 1, 1, 1, 1, 1, 1, 0, 0, 1, 1, 1, 1, 1, 1, 1,\n",
       "       1, 1, 1, 1, 1, 1, 1, 1, 1, 1, 0, 0, 0, 1, 0, 1, 1, 1, 0, 1, 0, 1,\n",
       "       1, 1, 1, 0, 1, 1, 0, 1, 1, 1, 1, 0, 1, 1, 1, 1, 1, 1, 1, 0, 1, 1,\n",
       "       1, 0])"
      ]
     },
     "execution_count": 10,
     "metadata": {},
     "output_type": "execute_result"
    }
   ],
   "source": [
    "# simulate sedatary lifestyle, yes=1, no=0\n",
    "# 79% is yes\n",
    "\n",
    "lifestyle = np.random.binomial(1, .79, 200)\n",
    "lifestyle"
   ]
  },
  {
   "cell_type": "code",
   "execution_count": 59,
   "id": "dcebe8f8-e4f3-499e-a082-953fa8997049",
   "metadata": {},
   "outputs": [
    {
     "data": {
      "image/png": "[encoded data removed]",
      "text/plain": [
       "<Figure size 432x288 with 1 Axes>"
      ]
     },
     "metadata": {
      "needs_background": "light"
     },
     "output_type": "display_data"
    }
   ],
   "source": [
    "plt.hist(lifestyle, bins=3)\n",
    "plt.xticks([0,1], ['No', 'Yes'])\n",
    "plt.title(\"Sedantary lifestyle\")\n",
    "plt.show()"
   ]
  },
  {
   "cell_type": "markdown",
   "id": "5461c67b-58d3-4d17-b03f-a81d767d08e8",
   "metadata": {},
   "source": [
    "#### 5. Family income\n",
    "Based on [CSO data](https://www.cso.ie/en/releasesandpublications/ep/p-gpii/geographicalprofilesofincomeinireland2016/incomeinireland/) in 2016 on household gross income, it will be divided into following categories: \n",
    "- €0 to 20,000 :19.3%\n",
    "- €20,001 to 40,000 :25.7%\n",
    "- €40,001 to 60,000 :19.1%\n",
    "- €60,001 or above :35.9%\n"
   ]
  },
  {
   "cell_type": "code",
   "execution_count": 43,
   "id": "3b91e98e-680c-44dd-afd6-d3c0859c6400",
   "metadata": {},
   "outputs": [
    {
     "data": {
      "text/plain": [
       "array([2, 3, 3, 1, 0, 2, 1, 0, 2, 0, 2, 1, 3, 2, 3, 1, 1, 1, 3, 1, 3, 1,\n",
       "       1, 3, 3, 3, 0, 2, 1, 0, 3, 3, 1, 1, 2, 2, 3, 3, 3, 3, 1, 2, 3, 0,\n",
       "       3, 3, 0, 2, 3, 2, 3, 0, 1, 2, 1, 0, 2, 0, 0, 2, 3, 3, 2, 3, 3, 1,\n",
       "       0, 2, 0, 1, 0, 3, 0, 3, 0, 3, 1, 3, 3, 3, 2, 3, 3, 1, 1, 3, 0, 1,\n",
       "       3, 3, 0, 2, 1, 0, 3, 1, 3, 3, 2, 2, 3, 3, 0, 0, 2, 0, 1, 1, 3, 3,\n",
       "       2, 3, 3, 0, 3, 3, 3, 1, 1, 2, 3, 2, 3, 1, 3, 1, 3, 0, 0, 1, 2, 0,\n",
       "       1, 1, 1, 3, 0, 1, 0, 2, 0, 1, 3, 1, 0, 1, 3, 3, 1, 3, 3, 3, 3, 0,\n",
       "       3, 2, 1, 2, 1, 2, 1, 2, 1, 1, 3, 3, 3, 3, 3, 2, 2, 2, 1, 0, 3, 3,\n",
       "       0, 1, 3, 1, 3, 0, 2, 0, 3, 3, 3, 2, 2, 0, 0, 2, 3, 0, 3, 2, 3, 3,\n",
       "       3, 2], dtype=int64)"
      ]
     },
     "execution_count": 43,
     "metadata": {},
     "output_type": "execute_result"
    }
   ],
   "source": [
    "# simulate family income, 4 categories\n",
    "# 0:€0-20000; 1:€20001-40000; 2:€40001-60000; 3:€60001+\n",
    "income = rng.choice(4, 200, p=[.193, .257, .191, .359])\n",
    "income"
   ]
  },
  {
   "cell_type": "code",
   "execution_count": 61,
   "id": "1ff9ce60-e258-4b42-9dd1-893e661658a0",
   "metadata": {},
   "outputs": [
    {
     "data": {
      "image/png": "[encoded data removed]",
      "text/plain": [
       "<Figure size 432x288 with 1 Axes>"
      ]
     },
     "metadata": {
      "needs_background": "light"
     },
     "output_type": "display_data"
    }
   ],
   "source": [
    "plt.hist(income, bins=7)\n",
    "plt.title(\"Family income level\")\n",
    "plt.xticks([0,1,2,3], ['0-20000', '20001-40000','40001-60000','60000+'], rotation=10)\n",
    "plt.show()"
   ]
  },
  {
   "cell_type": "markdown",
   "id": "3a851903-a75a-4a21-af65-a6d92c49bfaa",
   "metadata": {},
   "source": [
    "#### 6. Primary carer education level\n",
    "Research showed that education level of primary carer is negatively associated with obesity level, meaning higher education level associated with lover obesity levels. Primary carer education level will be divided into 3 categories. From [CSO data](https://www.cso.ie/en/releasesandpublications/ep/p-eda/educationalattainmentthematicreport2021/introductionandsummaryofresults/) of 2021, the distribution of education level among population aged 25-64 as follow:\n",
    "1.Primary or below: 4% \n",
    "2.Secondary: 29%\n",
    "3.Post leaving certificate: 67%"
   ]
  },
  {
   "cell_type": "code",
   "execution_count": 45,
   "id": "5efb8c42-aa30-41b6-a0f3-d3edf1b6ba90",
   "metadata": {},
   "outputs": [
    {
     "data": {
      "text/plain": [
       "array([2, 2, 2, 2, 1, 1, 2, 2, 2, 2, 2, 2, 2, 2, 2, 1, 1, 2, 1, 2, 1, 2,\n",
       "       2, 2, 2, 1, 1, 2, 2, 2, 2, 2, 2, 1, 1, 2, 2, 1, 2, 1, 2, 0, 1, 2,\n",
       "       1, 2, 2, 1, 2, 2, 2, 2, 2, 2, 2, 1, 2, 1, 2, 2, 1, 1, 1, 2, 2, 2,\n",
       "       2, 2, 2, 2, 2, 1, 2, 1, 2, 2, 1, 2, 2, 2, 2, 1, 2, 0, 1, 0, 2, 2,\n",
       "       1, 2, 1, 2, 2, 2, 2, 2, 2, 2, 2, 2, 2, 2, 2, 1, 2, 2, 2, 2, 2, 1,\n",
       "       1, 2, 2, 2, 2, 2, 2, 2, 1, 2, 2, 2, 2, 1, 2, 2, 2, 2, 1, 1, 0, 2,\n",
       "       1, 2, 2, 1, 2, 2, 2, 1, 2, 2, 2, 2, 1, 1, 1, 1, 1, 2, 2, 1, 2, 2,\n",
       "       2, 2, 2, 2, 1, 2, 1, 2, 1, 2, 2, 1, 2, 2, 2, 1, 2, 2, 2, 1, 2, 2,\n",
       "       2, 1, 2, 1, 1, 1, 1, 2, 2, 2, 1, 2, 1, 1, 1, 2, 2, 2, 1, 1, 2, 1,\n",
       "       1, 2], dtype=int64)"
      ]
     },
     "execution_count": 45,
     "metadata": {},
     "output_type": "execute_result"
    }
   ],
   "source": [
    "# simulate primary carer education level, 3 categories\n",
    "# 0=primary or lower, 1=secondary, 2=tertiary or higher\n",
    "eduLevel = rng.choice(3, 200, p=[.04,.29,.67])\n",
    "eduLevel"
   ]
  },
  {
   "cell_type": "code",
   "execution_count": 66,
   "id": "5b20ec1f-4c16-4562-9c3a-aead3cfc9d3a",
   "metadata": {},
   "outputs": [
    {
     "data": {
      "image/png": "[encoded data removed]",
      "text/plain": [
       "<Figure size 432x288 with 1 Axes>"
      ]
     },
     "metadata": {
      "needs_background": "light"
     },
     "output_type": "display_data"
    }
   ],
   "source": [
    "plt.hist(eduLevel, bins=5)\n",
    "plt.title(\"Primary carer education level\")\n",
    "plt.xticks([0,1,2], ['Primary or lower', 'Secondary','Tertiary or higher'])\n",
    "plt.show()"
   ]
  },
  {
   "cell_type": "markdown",
   "id": "bcb77888-693b-438e-9883-d25b583d53f4",
   "metadata": {},
   "source": [
    "# Putting it altogether"
   ]
  },
  {
   "cell_type": "code",
   "execution_count": 42,
   "id": "585f81c3-9ef7-458b-8c56-b440b365e70c",
   "metadata": {},
   "outputs": [
    {
     "data": {
      "text/html": [
       "<div>\n",
       "<style scoped>\n",
       "    .dataframe tbody tr th:only-of-type {\n",
       "        vertical-align: middle;\n",
       "    }\n",
       "\n",
       "    .dataframe tbody tr th {\n",
       "        vertical-align: top;\n",
       "    }\n",
       "\n",
       "    .dataframe thead th {\n",
       "        text-align: right;\n",
       "    }\n",
       "</style>\n",
       "<table border=\"1\" class=\"dataframe\">\n",
       "  <thead>\n",
       "    <tr style=\"text-align: right;\">\n",
       "      <th></th>\n",
       "      <th>Weight at 5</th>\n",
       "      <th>Height at 5</th>\n",
       "      <th>Birth Weight</th>\n",
       "      <th>Sedantary lifestyle</th>\n",
       "      <th>Family income level</th>\n",
       "      <th>Primary carer education level</th>\n",
       "    </tr>\n",
       "  </thead>\n",
       "  <tbody>\n",
       "    <tr>\n",
       "      <th>0</th>\n",
       "      <td>18.08</td>\n",
       "      <td>106.68</td>\n",
       "      <td>3.0</td>\n",
       "      <td>1</td>\n",
       "      <td>3</td>\n",
       "      <td>2</td>\n",
       "    </tr>\n",
       "    <tr>\n",
       "      <th>1</th>\n",
       "      <td>18.44</td>\n",
       "      <td>108.53</td>\n",
       "      <td>3.0</td>\n",
       "      <td>0</td>\n",
       "      <td>0</td>\n",
       "      <td>1</td>\n",
       "    </tr>\n",
       "    <tr>\n",
       "      <th>2</th>\n",
       "      <td>18.00</td>\n",
       "      <td>107.49</td>\n",
       "      <td>3.0</td>\n",
       "      <td>1</td>\n",
       "      <td>2</td>\n",
       "      <td>2</td>\n",
       "    </tr>\n",
       "    <tr>\n",
       "      <th>3</th>\n",
       "      <td>18.33</td>\n",
       "      <td>107.94</td>\n",
       "      <td>3.0</td>\n",
       "      <td>1</td>\n",
       "      <td>0</td>\n",
       "      <td>2</td>\n",
       "    </tr>\n",
       "    <tr>\n",
       "      <th>4</th>\n",
       "      <td>18.20</td>\n",
       "      <td>111.91</td>\n",
       "      <td>3.0</td>\n",
       "      <td>1</td>\n",
       "      <td>3</td>\n",
       "      <td>2</td>\n",
       "    </tr>\n",
       "    <tr>\n",
       "      <th>...</th>\n",
       "      <td>...</td>\n",
       "      <td>...</td>\n",
       "      <td>...</td>\n",
       "      <td>...</td>\n",
       "      <td>...</td>\n",
       "      <td>...</td>\n",
       "    </tr>\n",
       "    <tr>\n",
       "      <th>195</th>\n",
       "      <td>18.51</td>\n",
       "      <td>107.61</td>\n",
       "      <td>3.0</td>\n",
       "      <td>0</td>\n",
       "      <td>0</td>\n",
       "      <td>2</td>\n",
       "    </tr>\n",
       "    <tr>\n",
       "      <th>196</th>\n",
       "      <td>18.60</td>\n",
       "      <td>117.10</td>\n",
       "      <td>3.0</td>\n",
       "      <td>1</td>\n",
       "      <td>2</td>\n",
       "      <td>2</td>\n",
       "    </tr>\n",
       "    <tr>\n",
       "      <th>197</th>\n",
       "      <td>18.31</td>\n",
       "      <td>107.67</td>\n",
       "      <td>3.0</td>\n",
       "      <td>1</td>\n",
       "      <td>1</td>\n",
       "      <td>1</td>\n",
       "    </tr>\n",
       "    <tr>\n",
       "      <th>198</th>\n",
       "      <td>18.21</td>\n",
       "      <td>107.94</td>\n",
       "      <td>3.0</td>\n",
       "      <td>1</td>\n",
       "      <td>3</td>\n",
       "      <td>2</td>\n",
       "    </tr>\n",
       "    <tr>\n",
       "      <th>199</th>\n",
       "      <td>18.32</td>\n",
       "      <td>108.22</td>\n",
       "      <td>3.0</td>\n",
       "      <td>1</td>\n",
       "      <td>3</td>\n",
       "      <td>2</td>\n",
       "    </tr>\n",
       "  </tbody>\n",
       "</table>\n",
       "<p>200 rows × 6 columns</p>\n",
       "</div>"
      ],
      "text/plain": [
       "     Weight at 5  Height at 5  Birth Weight  Sedantary lifestyle  \\\n",
       "0          18.08       106.68           3.0                    1   \n",
       "1          18.44       108.53           3.0                    0   \n",
       "2          18.00       107.49           3.0                    1   \n",
       "3          18.33       107.94           3.0                    1   \n",
       "4          18.20       111.91           3.0                    1   \n",
       "..           ...          ...           ...                  ...   \n",
       "195        18.51       107.61           3.0                    0   \n",
       "196        18.60       117.10           3.0                    1   \n",
       "197        18.31       107.67           3.0                    1   \n",
       "198        18.21       107.94           3.0                    1   \n",
       "199        18.32       108.22           3.0                    1   \n",
       "\n",
       "     Family income level  Primary carer education level  \n",
       "0                      3                              2  \n",
       "1                      0                              1  \n",
       "2                      2                              2  \n",
       "3                      0                              2  \n",
       "4                      3                              2  \n",
       "..                   ...                            ...  \n",
       "195                    0                              2  \n",
       "196                    2                              2  \n",
       "197                    1                              1  \n",
       "198                    3                              2  \n",
       "199                    3                              2  \n",
       "\n",
       "[200 rows x 6 columns]"
      ]
     },
     "execution_count": 42,
     "metadata": {},
     "output_type": "execute_result"
    }
   ],
   "source": [
    "import pandas as pd\n",
    "\n",
    "def prepare_dataset(sample_size):\n",
    "    # allow change of sample size\n",
    "    n=sample_size\n",
    "    # collect all variables derived from distribution above to data dict\n",
    "    data={\n",
    "    \"weight_5\":np.around(np.random.normal(loc=18.3, scale=0.14, size=n), decimals=2),\n",
    "    \"height_5\":np.around(np.random.normal(loc=110.0, scale=4.6, size=n), decimals=2),\n",
    "    \"birthWeight\":np.around(weight_5 /5 -.35),\n",
    "    \"lifestyle\":np.random.binomial(1, .79, n),\n",
    "    \"income\":rng.choice(4, n, p=[.193, .257, .191, .359]),\n",
    "    \"eduLevel\":rng.choice(3, n, p=[.04,.29,.67])}\n",
    "    \n",
    "    df = pd.DataFrame(data)\n",
    "    df.columns=[\"Weight at 5\",\"Height at 5\",\"Birth Weight\",\"Sedantary lifestyle\",\n",
    "                \"Family income level\", \"Primary carer education level\"]\n",
    "    return df\n",
    "\n",
    "prepare_dataset(200)\n",
    "# try change the sample size"
   ]
  },
  {
   "cell_type": "markdown",
   "id": "3547cd0e-ac34-4ca4-984b-502339db493c",
   "metadata": {},
   "source": [
    "## References\n",
    "***\n"
   ]
  },
  {
   "cell_type": "markdown",
   "id": "56b20ea1-4fc9-4720-a44e-9a1978b1d092",
   "metadata": {},
   "source": [
    "[Risk factors for childhood obesity at age 5: Analysis of the Millennium Cohort Study](https://bmcpublichealth.biomedcentral.com/articles/10.1186/1471-2458-9-467) <br>\n",
    "\n",
    "[Distribution of body mass index in children with different parental risk: Findings of a family-based cohort study in a West-Asian population](https://www.nature.com/articles/s41598-019-45543-y) <br>\n",
    "\n",
    "[geeks for geeks](https://www.geeksforgeeks.org/python-generate-test-datasets-for-machine-learning/) <br>"
   ]
  }
 ],
 "metadata": {
  "kernelspec": {
   "display_name": "Python 3",
   "language": "python",
   "name": "python3"
  },
  "language_info": {
   "codemirror_mode": {
    "name": "ipython",
    "version": 3
   },
   "file_extension": ".py",
   "mimetype": "text/x-python",
   "name": "python",
   "nbconvert_exporter": "python",
   "pygments_lexer": "ipython3",
   "version": "3.8.8"
  }
 },
 "nbformat": 4,
 "nbformat_minor": 5
}
