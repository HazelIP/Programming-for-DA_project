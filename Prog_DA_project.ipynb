{
 "cells": [
  {
   "cell_type": "markdown",
   "id": "32feab68-849f-4e43-8a29-bf78a9bb3404",
   "metadata": {},
   "source": [
    "# Programming for Data Analysis Project (3rd Jan 2022)\n",
    "***\n",
    "- simulating a real-world phenomenon\n",
    "- create a synthesize data set using numpy.random (at least 100 data points & 4+ variables)\n",
    "- consider distribution and relationship of data and variables\n",
    "\n",
    "- ipynb to display research of real world phenonmenon in regards to the simulated data set, dont need csv file\n",
    "- devise an algorithm (or method) to generate such a data set"
   ]
  },
  {
   "cell_type": "markdown",
   "id": "818cd092-1ee8-4765-b488-b3cf63d00a52",
   "metadata": {},
   "source": [
    "real world phenonmenon IDEAS:\n",
    "\n",
    "1. Customers' choice of (new?) streaming service\n",
    "ref:  https://fluentpulse.com/streaming-services-2021/ <br>\n",
    "https://info.kpmg.us/content/dam/advisory/en/pdfs/2019/kpmg-streaming-survey-report.pdf <br>\n",
    "https://scholarworks.lib.csusb.edu/cgi/viewcontent.cgi?article=1394&context=ciima<br>\n",
    "https://www.sciencedirect.com/science/article/pii/S0160791X21000099 <br>\n",
    "https://www.pcmag.com/news/the-most-important-buying-factors-for-video-streaming-services <br>\n",
    "  *   variable1: generation/age range? (categorical?)\n",
    "  *   variable2: streaming services * (categorical)\n",
    "  *   variable3: features/ type of steaming content?\n",
    "  *   variable4: ease of access\n",
    "  *   variable5: price or price range?\n",
    "  *   variable6: ads-free or ad-based for reduced fee\n",
    "\n",
    "  portability to multiple devise\n",
    "  recommendation engine?\n",
    "  viewing devise\n",
    " \n",
    " \n",
    " 2. "
   ]
  },
  {
   "cell_type": "code",
   "execution_count": null,
   "id": "f14485af-cf8d-4f4f-a532-5fc2fca51ae3",
   "metadata": {},
   "outputs": [],
   "source": []
  },
  {
   "cell_type": "code",
   "execution_count": null,
   "id": "734e2967-8b84-4a2e-b2dd-2f769950f537",
   "metadata": {},
   "outputs": [],
   "source": []
  },
  {
   "cell_type": "code",
   "execution_count": null,
   "id": "5ef9f8dd-5d8e-43c8-89c0-22c22de9a958",
   "metadata": {},
   "outputs": [],
   "source": []
  },
  {
   "cell_type": "code",
   "execution_count": null,
   "id": "98603ceb-4dbe-46c7-a545-7554f30b2e8d",
   "metadata": {},
   "outputs": [],
   "source": []
  },
  {
   "cell_type": "code",
   "execution_count": null,
   "id": "e507ff71-7e15-497a-8ca6-16eadad75548",
   "metadata": {},
   "outputs": [],
   "source": []
  }
 ],
 "metadata": {
  "kernelspec": {
   "display_name": "Python 3",
   "language": "python",
   "name": "python3"
  },
  "language_info": {
   "codemirror_mode": {
    "name": "ipython",
    "version": 3
   },
   "file_extension": ".py",
   "mimetype": "text/x-python",
   "name": "python",
   "nbconvert_exporter": "python",
   "pygments_lexer": "ipython3",
   "version": "3.8.8"
  }
 },
 "nbformat": 4,
 "nbformat_minor": 5
}
