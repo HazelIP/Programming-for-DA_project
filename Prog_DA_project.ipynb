{
 "cells": [
  {
   "cell_type": "markdown",
   "id": "32feab68-849f-4e43-8a29-bf78a9bb3404",
   "metadata": {},
   "source": [
    "# Programming for Data Analysis Project (3rd Jan 2022)\n",
    "***\n",
    "- simulating a real-world phenomenon\n",
    "- create a synthesize data set using numpy.random (at least 100 data points & 4+ variables)\n",
    "- consider distribution and relationship of data and variables\n",
    "\n",
    "- ipynb to display research of real world phenonmenon in regards to the simulated data set, dont need csv file\n",
    "- devise an algorithm (or method) to generate such a data set"
   ]
  },
  {
   "cell_type": "markdown",
   "id": "d93a7c87-b09e-4ad6-b8ef-ea64b5bccf10",
   "metadata": {},
   "source": [
    "The topic of interest is childhood obesity\n",
    "simulate a dataset of a range of related variables"
   ]
  },
  {
   "cell_type": "markdown",
   "id": "3442b421-a907-4ceb-95a4-b8f427709ca8",
   "metadata": {},
   "source": [
    "Research showed that weight at age 5 is a strong predictor of a person's future health. Research also showed that various factors affect the weight of children at age 5, a synthesiezed dataset taking into account of those factors is generated at the end. The dataset will consist of height and weight (or BMI) of 200 children at age 5. \n",
    "Children’s lifestyles particularly for younger groups, are directly or indirectly affected by family environments, parents’ role and behavioral modeling6. Parents’ age, knowledge and education, employment status, physical activity and smoking are reported to be among the most important familial contributors to children weight status. \n",
    "\n"
   ]
  },
  {
   "cell_type": "markdown",
   "id": "2aec3183-4ff6-4f8f-99b2-8f7a63e1ff1a",
   "metadata": {},
   "source": [
    "define variables mean = 50th percentile; 68% lie within 1 sd\n",
    "- The first variable is weight of children at age 5, [ref] said it is a normal distribution with skewed to left. \n",
    "obesity=95th percentile in BMI === weight & height\n",
    "  - weight and height data from WHO from birth to 5 yo [https://www.who.int/toolkits/child-growth-standards/standards/body-mass-index-for-age-bmi-for-age] \n",
    "- Weight at birth which is normal distribution and is positively coorelated to weight at a later point in a person's life\n",
    "- Sedentary lifestyle which is measured as number of hours spent on watching tv or playing video games per week/day (3hours/day: yes/no)\n",
    "- family income: 3 categories (<10400; 10400-20800; 20800+)\n",
    "  [https://www.revenue.ie/en/corporate/documents/statistics/income-distributors/individualised-gross-income.pdf]\n",
    "- Ethnicity (optional): white/european; asian; african\n",
    "- primary carer education level: higher associated with lover obesity levels (age 25-64 cso) (primary or below: 5%; secondary: 33%; Uni+:62%)\n",
    "- mother pregnancy weight: higher weight associated with obesity at age 5)\n",
    "\n",
    "**property and distribution of variables**\n"
   ]
  },
  {
   "cell_type": "markdown",
   "id": "0e3e756e-4140-40c1-a53d-b8a36e46daf1",
   "metadata": {},
   "source": [
    "### Steps to simulate a dataset\n",
    "[https://towardsdatascience.com/building-simulations-in-python-a-complete-walkthrough-3965b2d3ede0]"
   ]
  },
  {
   "cell_type": "markdown",
   "id": "31864a5c-d4fd-4684-a0f1-84d7ae80e528",
   "metadata": {},
   "source": [
    "1. define the variables\n",
    "2. properties: \n",
    "  - center statistic: mean, median, mode\n",
    "  - spread: standard deviation, range\n",
    "  - dependence: how related are two factors: coorelation \n",
    "  - shape: skewness and kurtosis\n",
    "\n",
    "3. generate random number for each variable by its distribution, (with no effect first then add in effect size)\n",
    "\n",
    "4. translate to code/ algorithm\n",
    "  - a loop from 1-200 data point (participants/samply size)\n",
    "  - a loop that loop through 4 or 5 variables to be set\n",
    "    - need to set subject id? * optional?*\n",
    "    - set participant 1-100 as group 1, 101-200 as group 2? *optional?* not necessary, it could be 1 of the variables, like income and edu level\n",
    "    - specify distribution of variables (supply necessary parameter like mean, sd, min and max point, and data type: int vs float)\n",
    "  \n",
    "  - add effect on dv based on coorelation from literature\n",
    "    - change mean or standard deviation to create effect\n",
    "    - to rescale new = old*sd+meanshift"
   ]
  },
  {
   "cell_type": "code",
   "execution_count": null,
   "id": "a2013347-30e0-4e9c-95aa-7c0388908049",
   "metadata": {},
   "outputs": [],
   "source": [
    "# import packages\n",
    "import numpy as np\n",
    "import matplotlib.pyplot as plt"
   ]
  },
  {
   "cell_type": "code",
   "execution_count": null,
   "id": "5ae47f0c-61c6-4cfe-8384-e90d0dab1514",
   "metadata": {},
   "outputs": [],
   "source": [
    "# initialize random number generater and set seed\n",
    "rng = np.random.default_rng(12345)"
   ]
  },
  {
   "cell_type": "code",
   "execution_count": null,
   "id": "6a7ca861-196c-4edf-bf0e-a650fefc96ab",
   "metadata": {},
   "outputs": [],
   "source": [
    "# simulate birthweight(kg) in normal distribution skewed to left, n=200\n",
    "# mean = 3.35(b), 3.23(g)\n",
    "# sd = 0.15(b), 0.14(g)\n",
    "birthWeight = \n",
    "\n"
   ]
  },
  {
   "cell_type": "code",
   "execution_count": null,
   "id": "ee5ea13b-a82a-444e-b3b7-0cea954e31d3",
   "metadata": {},
   "outputs": [],
   "source": [
    "# simulate BMI at age 5; \n",
    "# Height in cm: mean=110(b);109.4(g), sd=4.63(b);4.76(g)\n",
    "# weight in kg: 18.34(b); 18.22(g), sd=0.14(b);0.15(g)\n",
    "\n",
    "# BMI: mean=15.19(b), sd=0.09; (g)mean=15.27, sd=0.098\n",
    "\n",
    "bmi = "
   ]
  },
  {
   "cell_type": "code",
   "execution_count": null,
   "id": "2681a2d0-ab26-4f48-9e2a-c40d0b559b37",
   "metadata": {},
   "outputs": [],
   "source": [
    "# simulate family income in 4 categories, 1=low, 4=high, mean=, sd=\n",
    "# normal skewed to left\n",
    "#from CSO 2019 median=45,552; mean=53,118 \n",
    "mu, sigma = \n",
    "income = rng.normal(1,5,size=200)\n",
    "income"
   ]
  },
  {
   "cell_type": "code",
   "execution_count": null,
   "id": "33bf19c8-5380-4bbf-879c-51d49b6982c1",
   "metadata": {},
   "outputs": [],
   "source": [
    "# simulate sedatary lifestyle, yes=1, no=0, uniform\n",
    "lifestyle="
   ]
  },
  {
   "cell_type": "code",
   "execution_count": null,
   "id": "a2803432-9c7e-44c1-a2f2-d776a2035ca2",
   "metadata": {},
   "outputs": [],
   "source": [
    "# simulate primary carer education level, 4 categories\n",
    "eduLevel = \n"
   ]
  },
  {
   "cell_type": "code",
   "execution_count": null,
   "id": "4155edf2-2272-443b-9a0e-a76ad0058b8e",
   "metadata": {},
   "outputs": [],
   "source": [
    "# simulate family healthy behavior as a score from 0 to 3, 0 is healthy\n",
    "behavior = "
   ]
  },
  {
   "cell_type": "code",
   "execution_count": null,
   "id": "585f81c3-9ef7-458b-8c56-b440b365e70c",
   "metadata": {},
   "outputs": [],
   "source": []
  },
  {
   "cell_type": "markdown",
   "id": "3547cd0e-ac34-4ca4-984b-502339db493c",
   "metadata": {},
   "source": [
    "## References\n",
    "***\n"
   ]
  },
  {
   "cell_type": "markdown",
   "id": "56b20ea1-4fc9-4720-a44e-9a1978b1d092",
   "metadata": {},
   "source": [
    "[https://bmcpublichealth.biomedcentral.com/articles/10.1186/1471-2458-9-467] [https://www.nature.com/articles/s41598-019-45543-y]"
   ]
  }
 ],
 "metadata": {
  "kernelspec": {
   "display_name": "Python 3",
   "language": "python",
   "name": "python3"
  },
  "language_info": {
   "codemirror_mode": {
    "name": "ipython",
    "version": 3
   },
   "file_extension": ".py",
   "mimetype": "text/x-python",
   "name": "python",
   "nbconvert_exporter": "python",
   "pygments_lexer": "ipython3",
   "version": "3.8.8"
  }
 },
 "nbformat": 4,
 "nbformat_minor": 5
}
